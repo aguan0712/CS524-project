{
 "cells": [
  {
   "cell_type": "code",
   "execution_count": 2,
   "id": "68a3b3ad",
   "metadata": {},
   "outputs": [
    {
     "ename": "Error",
     "evalue": "Canceled future for execute_request message before replies were done",
     "output_type": "error",
     "traceback": [
      "Error: Canceled future for execute_request message before replies were done",
      "at t.KernelShellFutureHandler.dispose (/Users/naman/.vscode/extensions/ms-toolsai.jupyter-2022.3.1000901801/out/extension.js:2:1204175)",
      "at /Users/naman/.vscode/extensions/ms-toolsai.jupyter-2022.3.1000901801/out/extension.js:2:1223227",
      "at Map.forEach (<anonymous>)",
      "at v._clearKernelState (/Users/naman/.vscode/extensions/ms-toolsai.jupyter-2022.3.1000901801/out/extension.js:2:1223212)",
      "at v.dispose (/Users/naman/.vscode/extensions/ms-toolsai.jupyter-2022.3.1000901801/out/extension.js:2:1216694)",
      "at /Users/naman/.vscode/extensions/ms-toolsai.jupyter-2022.3.1000901801/out/extension.js:2:533674",
      "at t.swallowExceptions (/Users/naman/.vscode/extensions/ms-toolsai.jupyter-2022.3.1000901801/out/extension.js:2:913059)",
      "at dispose (/Users/naman/.vscode/extensions/ms-toolsai.jupyter-2022.3.1000901801/out/extension.js:2:533652)",
      "at t.RawSession.dispose (/Users/naman/.vscode/extensions/ms-toolsai.jupyter-2022.3.1000901801/out/extension.js:2:537330)",
      "at processTicksAndRejections (node:internal/process/task_queues:96:5)"
     ]
    }
   ],
   "source": [
    "import Pkg; Pkg.add(\"Cbc\")\n",
    "using Pkg, JuMP, Plots, Cbc, GraphRecipes, LightGraphs, SimpleWeightedGraphs, SparseArrays"
   ]
  },
  {
   "cell_type": "markdown",
   "id": "07821839",
   "metadata": {},
   "source": [
    "### ECE/CS/ISyE 524 &mdash; Introduction to Optimization &mdash; Spring 2022 ###\n",
    "\n",
    "\n",
    "# Madison Bus Route Designing: Preliminary Report\n",
    "\n",
    "Team Members: Rabeeya Hamid, Ai Guan, Naman Gupta\n",
    "\n",
    "Data: 04/22/2022\n",
    "\n",
    "*****\n",
    "\n",
    "### Table of Contents\n",
    "\n",
    "1. [Problem Description](#1.-Problem-Description)\n",
    "2. [Data Collection](#2.-Data-Collection)\n",
    "3. [Mathematical Model](#3.-Mathematical-Model)\n",
    "4. [Preliminary Code Implementation](#4.-Code-Implementation)\n",
    "5. [Preliminary Results and Analysis](#5.-Results-and-Analysis)\n"
   ]
  },
  {
   "cell_type": "markdown",
   "id": "e26e6c0c",
   "metadata": {},
   "source": [
    "## 1. Problem Description"
   ]
  },
  {
   "cell_type": "markdown",
   "id": "db013bd9",
   "metadata": {},
   "source": [
    "\n",
    "Based on the increasing need of public transportation, the City of Madison Metro Transit is proposing a major network redesign ([Transit Network Redesign](https://www.cityofmadison.com/metro/routes-schedules/transit-network-redesign)). Currently, they are surveying the students of UW-Madison and the residents of Madison for suggestions on their travel preferences, so that they can design the route system to better meet user demand and business. As University of Wisconsin-Madison students, our team thinks the redesign project would also have significant impact on our daily lives. \n",
    "\n",
    "The aim of the project is to model the routing design as a network optimization problem, so that we can propose the model as a part of their feedback survey. The family of network optimization problem includes assignment, critical path, max flow, shortest path, transportation, and min-cost flow problems . One of the primary results of the model is a network of arcs and nodes that illustrate the optimal routing among the points ([Network Optimization](http://home.ubalt.edu/ntsbarsh/opre640a/partIII.htm#:~:text=The%20family%20of%20network%20optimization,called%20a%20vertex%2C%20or%20point)).\n",
    "\n",
    "The project is a transportation problem in the network optimization problem family, and the nodes represent the bus stations, and the arcs represent the transportation flow between two stations. The model consist of three parts: decision variables, constraints, and objective function. We would like to model the optimal routes to meet the demand of ridership for each bus stop in Madison. Therefore, the objective function of the problem to maximizing the number of passengers boarding for each bus with potential constraints including fuel limitation, bus capacity, routing regulations and bus station demand. "
   ]
  },
  {
   "cell_type": "markdown",
   "id": "1b3079de",
   "metadata": {},
   "source": [
    "## 2. Data Collection"
   ]
  },
  {
   "cell_type": "markdown",
   "id": "f20fab31",
   "metadata": {},
   "source": [
    "The data utilized in the project is the publicly available data from the City of Madison website. Two datasets are selected corresponding to the \n",
    "   1.\tMetro Transit Ridership by Stop | City of Madison Open Data.  [Data Source](https://data-cityofmadison.opendata.arcgis.com/datasets/cityofmadison::metro-transit-ridership-by-stop)\n",
    "   2.\tMetro Transit Bus Route Patterns | City of Madison Open Data. [Data Source](https://data-cityofmadison.opendata.arcgis.com/datasets/cityofmadison::metro-transit-bus-route-patterns/about)\n",
    "    \n",
    "The first dataset contains a list of all bus stops, their position geographically (longitude and latitude) and the ridership at that bus stop averaged over 12 days. We do not have distances between these bus stops, nor do we have connections between them, for which we propose the following approach. \n",
    "   *   We calculate the Manhattan distance between the geographic position of the bus stops to define the distances between them. \n",
    "   *   These distances will be multiplied by a constant of proportionality to determine the fuel cost associated with each \n",
    "        path. \n",
    "The second dataset contains a list of present bus routes, the bus stops along the routes and the total ridership for the bus routes averaged over 12 days. \n",
    "\t\n",
    "For the preliminary report, the focus is to generate the illustrative demo of the model. It is a smaller bus network which consists of 8 bus stations."
   ]
  },
  {
   "cell_type": "code",
   "execution_count": null,
   "id": "2f579ded",
   "metadata": {},
   "outputs": [],
   "source": [
    "# Add packages\n",
    "using Pkg\n",
    "Pkg.add(\"CSV\")\n",
    "Pkg.add(\"DataFrames\")\n",
    "\n",
    "using CSV\n",
    "using DataFrames\n",
    "\n",
    "# import data set as a dataframe\n",
    "ridership_data = CSV.read(\"data/Metro_Transit_Ridership_by_Stop.csv\", DataFrame)\n",
    "route_patterns_data = CSV.read(\"data/Metro_Transit_Bus_Route_Patterns.csv\", DataFrame)\n",
    "stops_data = CSV.read(\"data/Metro_Transit_Bus_Stops.csv\", DataFrame);"
   ]
  },
  {
   "cell_type": "code",
   "execution_count": null,
   "id": "0f1cf98e",
   "metadata": {},
   "outputs": [],
   "source": [
    "first(ridership_data, 5)"
   ]
  },
  {
   "cell_type": "code",
   "execution_count": null,
   "id": "e24a34c1",
   "metadata": {},
   "outputs": [],
   "source": [
    "first(route_patterns_data, 5)"
   ]
  },
  {
   "cell_type": "code",
   "execution_count": null,
   "id": "3c64d6e6",
   "metadata": {},
   "outputs": [],
   "source": [
    "first(stops_data, 5)"
   ]
  },
  {
   "cell_type": "code",
   "execution_count": null,
   "id": "78b3b5d7",
   "metadata": {},
   "outputs": [],
   "source": [
    "N = size(ridership_data,1)"
   ]
  },
  {
   "cell_type": "code",
   "execution_count": null,
   "id": "57481c46",
   "metadata": {},
   "outputs": [],
   "source": [
    "import Pkg; Pkg.add(\"Geodesy\")\n",
    "using Geodesy\n",
    "\n",
    "stops = Vector{LatLon{Float64}}()\n",
    "\n",
    "for i in eachrow(ridership_data)\n",
    "    x = LatLon(i.Lat, i.Lon)\n",
    "    push!(stops, x)\n",
    "end\n",
    "\n",
    "distances = zeros(N,N)\n",
    "\n",
    "for i in 1:N\n",
    "    for j in 1:N\n",
    "        distances[i,j] = euclidean_distance(stops[i], stops[j])\n",
    "    end\n",
    "end\n"
   ]
  },
  {
   "cell_type": "code",
   "execution_count": null,
   "id": "958c23be",
   "metadata": {},
   "outputs": [],
   "source": [
    "distances"
   ]
  },
  {
   "cell_type": "code",
   "execution_count": null,
   "id": "29e72a64",
   "metadata": {},
   "outputs": [],
   "source": [
    "stop_route = Dict()\n",
    "\n",
    "for i in eachrow(stops_data)\n",
    "    if i.Route != \"None\"\n",
    "        stop_route[i.stop_id] = i.Route\n",
    "    end\n",
    "end\n",
    "\n",
    "stop_route"
   ]
  },
  {
   "cell_type": "markdown",
   "id": "69f96c67",
   "metadata": {},
   "source": [
    "## 3. Mathematical Model\n",
    "\n",
    "### Parameters Given:\n",
    "- Number of bus stops ```n``` : number of nodes in our network\n",
    "- Adjacency Matrix ```Adj``` ($n \\times n$) : describes connections between bus stops\n",
    "- Distance Matrix ```D``` ($n \\times n$): Euclidean distances between all bus stops\n",
    "- Ridership vector ```r```($n \\times 1$): the ridership demand at every bus stop\n",
    "- Start node ```n_i```: the bus stop from where our bus starts\n",
    "- End node ```n_e```: the bus stop where our bus route ends\n",
    "- Distance (Fuel) limit ```f```: the distance our bus can travel in total"
   ]
  },
  {
   "cell_type": "code",
   "execution_count": 15,
   "id": "fbe513bf",
   "metadata": {},
   "outputs": [],
   "source": [
    "n = 8\n",
    "\n",
    "Adj = [0 1 0 0 1 0 1 0;\n",
    "       0 0 1 0 1 1 0 0;\n",
    "       1 1 0 1 0 1 1 0;\n",
    "       0 0 0 0 1 0 0 1;\n",
    "       1 1 1 0 0 1 1 0;\n",
    "       0 0 0 1 0 0 0 1;\n",
    "       1 1 1 0 1 0 0 1;\n",
    "       1 0 1 1 0 0 1 0;]\n",
    "\n",
    "D = [0 4 6 3 10 1 8 10;\n",
    "     5 0 2 6 5 5 4 6;\n",
    "     1 8 0 4 2 7 2 3;\n",
    "     7 2 3 0 4 2 8 9;\n",
    "     2 3 9 4 0 5 1 2;\n",
    "     1 4 1 3 10 0 8 8;\n",
    "     5 8 2 6 5 2 0 6;\n",
    "     1 8 7 4 2 1 2 0]\n",
    "\n",
    "r = [4, 1, 8, 2, 9, 10, 5, 8]\n",
    "\n",
    "n_i = 2\n",
    "n_e = 7\n",
    "\n",
    "f = 20\n",
    ";"
   ]
  },
  {
   "cell_type": "markdown",
   "id": "df4c2175",
   "metadata": {},
   "source": [
    "### Plotting network:"
   ]
  },
  {
   "cell_type": "code",
   "execution_count": 16,
   "id": "0c9ef6e2",
   "metadata": {},
   "outputs": [
    {
     "ename": "LoadError",
     "evalue": "LoadError: UndefVarError: @colorant_str not defined\nin expression starting at In[16]:9",
     "output_type": "error",
     "traceback": [
      "LoadError: UndefVarError: @colorant_str not defined\nin expression starting at In[16]:9",
      "",
      "Stacktrace:",
      " [1] top-level scope",
      "   @ :0",
      " [2] eval",
      "   @ .\\boot.jl:373 [inlined]",
      " [3] include_string(mapexpr::typeof(REPL.softscope), mod::Module, code::String, filename::String)",
      "   @ Base .\\loading.jl:1196"
     ]
    }
   ],
   "source": [
    "edgelabel_dict = Dict()\n",
    "for i in 1:n\n",
    "    for j in 1:n\n",
    "        edgelabel_dict[(i, j)] = D[i, j]\n",
    "    end\n",
    "end\n",
    "\n",
    "membership = [1,2,1,1,1,1,3,1]\n",
    "nodecolor = [colorant\"lightseagreen\", colorant\"orange\", colorant\"yellow\"]\n",
    "# membership color\n",
    "nodefillc = nodecolor[membership]\n",
    "\n",
    "graph = graphplot(Adj, names=\"BS \".*string.(1:n), curvature_scalar=0.01, edgelabel=edgelabel_dict, markercolor=nodefillc)"
   ]
  },
  {
   "cell_type": "markdown",
   "id": "9eeacb39",
   "metadata": {},
   "source": [
    "_Orange: Start node <br>\n",
    "Yellow: End node_"
   ]
  },
  {
   "cell_type": "markdown",
   "id": "0aa6f377",
   "metadata": {},
   "source": [
    "### Parameters Calculated:\n",
    "- Number of paths ```e```: number of edges in our network \n",
    "- Incidence matrix ```Inc```($n \\times e$): describes the edges in our network.\n",
    "- Edge costs ```d_e```($e \\times 1$): the distance corresponding to edges in the network\n",
    "- Rider intake ```r_e```($e \\times 1$): the riders taken up after traveling to each edge\n",
    "- Flow vector ```b``` ($n \\times 1$): includes the start and end node"
   ]
  },
  {
   "cell_type": "markdown",
   "id": "b96071bf",
   "metadata": {},
   "source": [
    "### Function for incidence matrix:\n",
    "Defining function to calculate incidence matrix from adjacency matrix, taken from: https://github.com/sbromberger/LightGraphs.jl/issues/1489"
   ]
  },
  {
   "cell_type": "code",
   "execution_count": 4,
   "id": "8b017817",
   "metadata": {},
   "outputs": [],
   "source": [
    "function my_incidence_matrix(G)\n",
    "    I = vcat([src(e) for e in edges(G)], [dst(e) for e in edges(G)])\n",
    "    J = vcat(collect(1:ne(G)), collect(1:ne(G)))\n",
    "    V = vcat(fill(-1, ne(G)), fill(1, ne(G)))\n",
    "    return sparse(I, J, V)\n",
    "end\n",
    ";"
   ]
  },
  {
   "cell_type": "markdown",
   "id": "a4e5bf41",
   "metadata": {},
   "source": [
    "### Calculating incidence matrix and number of edges:"
   ]
  },
  {
   "cell_type": "code",
   "execution_count": 5,
   "id": "e1fea4dd",
   "metadata": {},
   "outputs": [
    {
     "ename": "LoadError",
     "evalue": "UndefVarError: LightGraphs not defined",
     "output_type": "error",
     "traceback": [
      "UndefVarError: LightGraphs not defined",
      "",
      "Stacktrace:",
      " [1] top-level scope",
      "   @ In[5]:1",
      " [2] eval",
      "   @ .\\boot.jl:373 [inlined]",
      " [3] include_string(mapexpr::typeof(REPL.softscope), mod::Module, code::String, filename::String)",
      "   @ Base .\\loading.jl:1196"
     ]
    }
   ],
   "source": [
    "dirGraph = LightGraphs.DiGraph(Adj) # converting adjacency matrix into a directed graph\n",
    "\n",
    "Inc = Array(my_incidence_matrix(dirGraph)) # converting directed graph to an incidence matrix\n",
    "\n",
    "e = size(Inc)[2] # number of edges\n",
    ";"
   ]
  },
  {
   "cell_type": "markdown",
   "id": "d8b085bc",
   "metadata": {},
   "source": [
    "### Defining edge costs, rider intake, and flow vector:"
   ]
  },
  {
   "cell_type": "code",
   "execution_count": 6,
   "id": "72f5ec12",
   "metadata": {},
   "outputs": [],
   "source": [
    "temp_D = D.*Adj\n",
    "temp_r = zeros((n,n))\n",
    "\n",
    "for i = 1:n\n",
    "        temp_r[i, :] = r.*Adj[i, :]\n",
    "end\n",
    "\n",
    "d_e = zeros(0)\n",
    "r_e = zeros(0)\n",
    "\n",
    "for i = 1:n\n",
    "    for j = 1:n\n",
    "        if temp_D[i, j] != 0\n",
    "            append!(d_e, temp_D[i, j])\n",
    "        end\n",
    "        if temp_r[i, j] != 0\n",
    "            append!(r_e, temp_r[i, j])\n",
    "        end\n",
    "    end    \n",
    "end\n",
    "\n",
    "b = zeros(n)\n",
    "b[n_i] = -1\n",
    "b[n_e] = 1\n",
    ";"
   ]
  },
  {
   "cell_type": "markdown",
   "id": "caa995ef",
   "metadata": {},
   "source": [
    "\n",
    "**Decision variable:** <br>\n",
    "\n",
    "$x$: all possible edges in the network, length = $e$ <br>\n",
    "    $$ x =   \\left\\{\n",
    "\\begin{array}{ll}\n",
    "      1 & \\text{If the bus travels on that edge}  \\\\\n",
    "      0 & \\text{If the bus doesn NOT travel on that edge} \\\\\n",
    "\\end{array} \n",
    "\\right.  $$\n",
    "\n",
    "**Objective function:** <br>\n",
    "$$ \\max_{x} \\text{    }r_e \\cdot x$$\n",
    "\n",
    "**Constraints:** <br>\n",
    "  s.t. \n",
    "$$ \\text{Inc}*x = b, $$\n",
    "$$ d_e \\cdot x <= f  $$\n"
   ]
  },
  {
   "cell_type": "markdown",
   "id": "63c1dcba",
   "metadata": {},
   "source": [
    "## 4. Code Implementation"
   ]
  },
  {
   "cell_type": "code",
   "execution_count": 7,
   "id": "9f3dac98",
   "metadata": {},
   "outputs": [
    {
     "ename": "LoadError",
     "evalue": "UndefVarError: Cbc not defined",
     "output_type": "error",
     "traceback": [
      "UndefVarError: Cbc not defined",
      "",
      "Stacktrace:",
      " [1] top-level scope",
      "   @ In[7]:1",
      " [2] eval",
      "   @ .\\boot.jl:373 [inlined]",
      " [3] include_string(mapexpr::typeof(REPL.softscope), mod::Module, code::String, filename::String)",
      "   @ Base .\\loading.jl:1196"
     ]
    }
   ],
   "source": [
    "bus_route = Model(with_optimizer(Cbc.Optimizer))\n",
    "\n",
    "@variable(bus_route, x[1:e], Bin) # binary decision variable x that maps out the [ath]\n",
    "@constraint(bus_route, Inc*x .== b) # nodal conservation\n",
    "@constraint(bus_route, dot(d_e, x) <= f) # fuel constraint\n",
    "\n",
    "@objective(bus_route, Max, dot(r_e, x))  # maximize people getting on the bus\n",
    "    \n",
    "optimize!(bus_route) "
   ]
  },
  {
   "cell_type": "markdown",
   "id": "fbf5919a",
   "metadata": {},
   "source": [
    "## 5. Results and Analysis"
   ]
  },
  {
   "cell_type": "markdown",
   "id": "0361c06a",
   "metadata": {},
   "source": [
    "### Defining dictionary for converting edge index to path:"
   ]
  },
  {
   "cell_type": "code",
   "execution_count": 8,
   "id": "75856e6d",
   "metadata": {},
   "outputs": [],
   "source": [
    "edgeIndex2path = Dict()\n",
    "count = 1\n",
    "for i = 1:n\n",
    "    for j = 1:n\n",
    "        if Adj[i, j] != 0\n",
    "            edgeIndex2path[count] = (i, j)\n",
    "            count = count + 1\n",
    "        end\n",
    "    end\n",
    "end"
   ]
  },
  {
   "cell_type": "markdown",
   "id": "aa348f96",
   "metadata": {},
   "source": [
    "### Finding the optimal path taken:"
   ]
  },
  {
   "cell_type": "code",
   "execution_count": 9,
   "id": "73df8717",
   "metadata": {},
   "outputs": [
    {
     "ename": "LoadError",
     "evalue": "UndefVarError: x not defined",
     "output_type": "error",
     "traceback": [
      "UndefVarError: x not defined",
      "",
      "Stacktrace:",
      " [1] top-level scope",
      "   @ In[9]:1",
      " [2] eval",
      "   @ .\\boot.jl:373 [inlined]",
      " [3] include_string(mapexpr::typeof(REPL.softscope), mod::Module, code::String, filename::String)",
      "   @ Base .\\loading.jl:1196"
     ]
    }
   ],
   "source": [
    "opt_path = value.(x)\n",
    "\n",
    "# finding edges travelled using edgeIndex2path dictionary\n",
    "path_taken_x = zeros(0)\n",
    "path_taken_y = zeros(0)\n",
    "for i = 1:e\n",
    "    if opt_path[i] != 0\n",
    "        temp = edgeIndex2path[i]\n",
    "        append!(path_taken_x, temp[1] )\n",
    "        append!(path_taken_y, temp[2] )\n",
    "    end\n",
    "end\n",
    "\n",
    "# defining dictionary with 1 for travelled edges, 0 for untravelled edges\n",
    "travelled_edges_dict = Dict()\n",
    "for k = 1:length(path_taken_x)\n",
    "    for i in 1:n\n",
    "        for j in 1:n\n",
    "            if i == path_taken_x[k] && j == path_taken_y[k] \n",
    "                travelled_edges_dict[(i, j)] = 1\n",
    "            elseif haskey(travelled_edges_dict, (i, j))\n",
    "                if travelled_edges_dict[(i, j)] == 1\n",
    "                    travelled_edges_dict[(i, j)] = 1\n",
    "                end\n",
    "            else \n",
    "                travelled_edges_dict[(i, j)] = 0\n",
    "            end\n",
    "        end\n",
    "    end\n",
    "end\n",
    "\n",
    "# printing the edges travelled on\n",
    "\n",
    "print(\"The bus travelled on these edges: \\n\")\n",
    "for i = 1:n\n",
    "    for j = 1:n\n",
    "        if travelled_edges_dict[(i, j)] != 0\n",
    "            println((i, j))\n",
    "        end\n",
    "    end\n",
    "end"
   ]
  },
  {
   "cell_type": "markdown",
   "id": "cc765296",
   "metadata": {},
   "source": [
    "### Finding nodes travelled:"
   ]
  },
  {
   "cell_type": "code",
   "execution_count": 10,
   "id": "eadd381f",
   "metadata": {},
   "outputs": [
    {
     "ename": "LoadError",
     "evalue": "UndefVarError: opt_path not defined",
     "output_type": "error",
     "traceback": [
      "UndefVarError: opt_path not defined",
      "",
      "Stacktrace:",
      " [1] top-level scope",
      "   @ In[10]:24",
      " [2] eval",
      "   @ .\\boot.jl:373 [inlined]",
      " [3] include_string(mapexpr::typeof(REPL.softscope), mod::Module, code::String, filename::String)",
      "   @ Base .\\loading.jl:1196"
     ]
    }
   ],
   "source": [
    "nodes = 1:n\n",
    "\n",
    "temp_path = zeros((n,n))\n",
    "\n",
    "# defining temporary variable temp_path to store nodes travelled to for on each edge index\n",
    "# (zeros need to be filtered out) \n",
    "for i = 1:n\n",
    "        temp_path[i, :] = nodes.*Adj[i, :]\n",
    "end\n",
    "\n",
    "path = zeros(0)\n",
    "\n",
    "# filtering out zeros\n",
    "for i = 1:n\n",
    "    for j = 1:n\n",
    "        if temp_path[i, j] != 0\n",
    "            append!(path, temp_path[i, j])\n",
    "        end\n",
    "    end    \n",
    "end\n",
    "\n",
    "\n",
    "# finding actual nodes travelled to using optimal edge vector x\n",
    "temp_path = path.*opt_path\n",
    "\n",
    "path = zeros(0)\n",
    "\n",
    "# filtering out zeros again\n",
    "for p in temp_path\n",
    "    if p != 0\n",
    "        append!(path, p)\n",
    "    end\n",
    "end\n",
    "\n",
    "# defining membership based on nodes travelled to, 1 for not travelled to, 2 for travelled to\n",
    "membership = ones(n)\n",
    "for i = 1:n\n",
    "    for p in path \n",
    "        if p == i\n",
    "            membership[i] = 2\n",
    "        end\n",
    "    end\n",
    "end\n",
    "\n",
    "# start node is also travelled to \n",
    "membership[n_i] = 2\n",
    "\n",
    "# convert to int for indexing\n",
    "for i = 1:n\n",
    "    membership[i] = convert(Int, membership[i])\n",
    "end\n",
    "\n",
    "# assigning colours, yellow for travelled to, seagreen for not\n",
    "int_membership = Int.(membership)\n",
    "nodecolor = [colorant\"lightseagreen\", colorant\"orange\", colorant\"yellow\"]\n",
    "nodefillc = nodecolor[int_membership]\n",
    ";"
   ]
  },
  {
   "cell_type": "markdown",
   "id": "5f0e5e4e",
   "metadata": {},
   "source": [
    "### Plotting final network:\n",
    "Yellow bus stops: are included in route\n",
    "Seagreen bus stops: are NOT included in route\n",
    "Paths with 1: are included in route\n",
    "Paths with 0: are NOT included in route"
   ]
  },
  {
   "cell_type": "code",
   "execution_count": 11,
   "id": "98ba056e",
   "metadata": {},
   "outputs": [
    {
     "ename": "LoadError",
     "evalue": "UndefVarError: travelled_edges_dict not defined",
     "output_type": "error",
     "traceback": [
      "UndefVarError: travelled_edges_dict not defined",
      "",
      "Stacktrace:",
      " [1] top-level scope",
      "   @ In[11]:2",
      " [2] eval",
      "   @ .\\boot.jl:373 [inlined]",
      " [3] include_string(mapexpr::typeof(REPL.softscope), mod::Module, code::String, filename::String)",
      "   @ Base .\\loading.jl:1196"
     ]
    }
   ],
   "source": [
    "# edges are 1 for travelled on, 0 for not travelled on\n",
    "graph = graphplot(Adj, names=\"BS \".*string.(1:n), curvature_scalar=0.11, edgelabel=travelled_edges_dict, markercolor=nodefillc)\n"
   ]
  },
  {
   "cell_type": "markdown",
   "id": "a02aac1d",
   "metadata": {},
   "source": [
    "### Fuel used, and people picked up:"
   ]
  },
  {
   "cell_type": "code",
   "execution_count": 12,
   "id": "ec4ffacd",
   "metadata": {},
   "outputs": [
    {
     "ename": "LoadError",
     "evalue": "UndefVarError: dot not defined",
     "output_type": "error",
     "traceback": [
      "UndefVarError: dot not defined",
      "",
      "Stacktrace:",
      " [1] top-level scope",
      "   @ In[12]:1",
      " [2] eval",
      "   @ .\\boot.jl:373 [inlined]",
      " [3] include_string(mapexpr::typeof(REPL.softscope), mod::Module, code::String, filename::String)",
      "   @ Base .\\loading.jl:1196"
     ]
    }
   ],
   "source": [
    "println(\"Fuel used: \", dot(d_e, opt_path))\n",
    "println(\"People picked up: \", dot(r_e, opt_path)) "
   ]
  },
  {
   "cell_type": "markdown",
   "id": "ed411897",
   "metadata": {},
   "source": [
    "# Next Steps"
   ]
  },
  {
   "cell_type": "markdown",
   "id": "be9f96fe",
   "metadata": {},
   "source": []
  }
 ],
 "metadata": {
  "kernelspec": {
   "display_name": "Julia 1.7.1",
   "language": "julia",
   "name": "julia-1.7"
  },
  "language_info": {
   "file_extension": ".jl",
   "mimetype": "application/julia",
   "name": "julia",
   "version": "1.7.2"
  }
 },
 "nbformat": 4,
 "nbformat_minor": 5
}
