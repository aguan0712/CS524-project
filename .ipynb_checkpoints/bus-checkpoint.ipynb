{
 "cells": [
  {
   "cell_type": "code",
   "execution_count": 73,
   "metadata": {},
   "outputs": [],
   "source": [
    "# Add packages\n",
    "# using Pkg\n",
    "# Pkg.add(\"CSV\")\n",
    "# Pkg.add(\"DataFrames\")\n",
    "\n",
    "using CSV\n",
    "using DataFrames\n",
    "\n",
    "# import data set as a dataframe\n",
    "ridership_data = CSV.read(\"data/Metro_Transit_Ridership_by_Stop.csv\", DataFrame)\n",
    "route_patterns_data = CSV.read(\"data/Metro_Transit_Bus_Route_Patterns.csv\", DataFrame)\n",
    "stops_data = CSV.read(\"data/Metro_Transit_Bus_Stops.csv\", DataFrame);"
   ]
  },
  {
   "cell_type": "code",
   "execution_count": 67,
   "metadata": {},
   "outputs": [
    {
     "data": {
      "text/html": [
       "<div class=\"data-frame\"><p>5 rows × 17 columns (omitted printing of 10 columns)</p><table class=\"data-frame\"><thead><tr><th></th><th>X</th><th>Y</th><th>OBJECTID</th><th>StopID</th><th>StopDescription</th><th>Lat</th><th>Lon</th></tr><tr><th></th><th title=\"Float64\">Float64</th><th title=\"Float64\">Float64</th><th title=\"Int64\">Int64</th><th title=\"Int64\">Int64</th><th title=\"String\">String</th><th title=\"Float64\">Float64</th><th title=\"Float64\">Float64</th></tr></thead><tbody><tr><th>1</th><td>-89.407</td><td>43.0711</td><td>10799</td><td>5</td><td>Dayton fs Orchard</td><td>43.0711</td><td>-89.407</td></tr><tr><th>2</th><td>-89.4002</td><td>43.0759</td><td>10800</td><td>10</td><td>Langdon ns Park</td><td>43.0759</td><td>-89.4002</td></tr><tr><th>3</th><td>-89.397</td><td>43.0758</td><td>10801</td><td>25</td><td>EB Langdon fs Lake</td><td>43.0758</td><td>-89.397</td></tr><tr><th>4</th><td>-89.3973</td><td>43.0718</td><td>10802</td><td>39</td><td>Lake ns Johnson</td><td>43.0718</td><td>-89.3973</td></tr><tr><th>5</th><td>-89.3901</td><td>43.0784</td><td>10803</td><td>45</td><td>EB Langdon ns Wisconsin</td><td>43.0784</td><td>-89.3901</td></tr></tbody></table></div>"
      ],
      "text/latex": [
       "\\begin{tabular}{r|cccccccc}\n",
       "\t& X & Y & OBJECTID & StopID & StopDescription & Lat & Lon & \\\\\n",
       "\t\\hline\n",
       "\t& Float64 & Float64 & Int64 & Int64 & String & Float64 & Float64 & \\\\\n",
       "\t\\hline\n",
       "\t1 & -89.407 & 43.0711 & 10799 & 5 & Dayton fs Orchard & 43.0711 & -89.407 & $\\dots$ \\\\\n",
       "\t2 & -89.4002 & 43.0759 & 10800 & 10 & Langdon ns Park & 43.0759 & -89.4002 & $\\dots$ \\\\\n",
       "\t3 & -89.397 & 43.0758 & 10801 & 25 & EB Langdon fs Lake & 43.0758 & -89.397 & $\\dots$ \\\\\n",
       "\t4 & -89.3973 & 43.0718 & 10802 & 39 & Lake ns Johnson & 43.0718 & -89.3973 & $\\dots$ \\\\\n",
       "\t5 & -89.3901 & 43.0784 & 10803 & 45 & EB Langdon ns Wisconsin & 43.0784 & -89.3901 & $\\dots$ \\\\\n",
       "\\end{tabular}\n"
      ],
      "text/plain": [
       "\u001b[1m5×17 DataFrame\u001b[0m\n",
       "\u001b[1m Row \u001b[0m│\u001b[1m X        \u001b[0m\u001b[1m Y       \u001b[0m\u001b[1m OBJECTID \u001b[0m\u001b[1m StopID \u001b[0m\u001b[1m StopDescription         \u001b[0m\u001b[1m Lat     \u001b[0m\u001b[1m \u001b[0m ⋯\n",
       "\u001b[1m     \u001b[0m│\u001b[90m Float64  \u001b[0m\u001b[90m Float64 \u001b[0m\u001b[90m Int64    \u001b[0m\u001b[90m Int64  \u001b[0m\u001b[90m String                  \u001b[0m\u001b[90m Float64 \u001b[0m\u001b[90m \u001b[0m ⋯\n",
       "─────┼──────────────────────────────────────────────────────────────────────────\n",
       "   1 │ -89.407   43.0711     10799       5  Dayton fs Orchard        43.0711   ⋯\n",
       "   2 │ -89.4002  43.0759     10800      10  Langdon ns Park          43.0759\n",
       "   3 │ -89.397   43.0758     10801      25  EB Langdon fs Lake       43.0758\n",
       "   4 │ -89.3973  43.0718     10802      39  Lake ns Johnson          43.0718\n",
       "   5 │ -89.3901  43.0784     10803      45  EB Langdon ns Wisconsin  43.0784   ⋯\n",
       "\u001b[36m                                                              11 columns omitted\u001b[0m"
      ]
     },
     "execution_count": 67,
     "metadata": {},
     "output_type": "execute_result"
    }
   ],
   "source": [
    "first(ridership_data, 5)"
   ]
  },
  {
   "cell_type": "code",
   "execution_count": 68,
   "metadata": {},
   "outputs": [
    {
     "data": {
      "text/html": [
       "<div class=\"data-frame\"><p>5 rows × 22 columns (omitted printing of 18 columns)</p><table class=\"data-frame\"><thead><tr><th></th><th>OBJECTID</th><th>PointsToLine_shape_id</th><th>PointsToLine_shape_id2</th><th>trips_routes_route_id</th></tr><tr><th></th><th title=\"Int64\">Int64</th><th title=\"Int64\">Int64</th><th title=\"Int64\">Int64</th><th title=\"Int64\">Int64</th></tr></thead><tbody><tr><th>1</th><td>3336</td><td>59757</td><td>59757</td><td>9899</td></tr><tr><th>2</th><td>3337</td><td>59758</td><td>59758</td><td>9899</td></tr><tr><th>3</th><td>3338</td><td>59759</td><td>59759</td><td>9899</td></tr><tr><th>4</th><td>3339</td><td>59761</td><td>59761</td><td>9899</td></tr><tr><th>5</th><td>3340</td><td>59763</td><td>59763</td><td>9899</td></tr></tbody></table></div>"
      ],
      "text/latex": [
       "\\begin{tabular}{r|ccccc}\n",
       "\t& OBJECTID & PointsToLine\\_shape\\_id & PointsToLine\\_shape\\_id2 & trips\\_routes\\_route\\_id & \\\\\n",
       "\t\\hline\n",
       "\t& Int64 & Int64 & Int64 & Int64 & \\\\\n",
       "\t\\hline\n",
       "\t1 & 3336 & 59757 & 59757 & 9899 & $\\dots$ \\\\\n",
       "\t2 & 3337 & 59758 & 59758 & 9899 & $\\dots$ \\\\\n",
       "\t3 & 3338 & 59759 & 59759 & 9899 & $\\dots$ \\\\\n",
       "\t4 & 3339 & 59761 & 59761 & 9899 & $\\dots$ \\\\\n",
       "\t5 & 3340 & 59763 & 59763 & 9899 & $\\dots$ \\\\\n",
       "\\end{tabular}\n"
      ],
      "text/plain": [
       "\u001b[1m5×22 DataFrame\u001b[0m\n",
       "\u001b[1m Row \u001b[0m│\u001b[1m OBJECTID \u001b[0m\u001b[1m PointsToLine_shape_id \u001b[0m\u001b[1m PointsToLine_shape_id2 \u001b[0m\u001b[1m trips_routes_r\u001b[0m ⋯\n",
       "\u001b[1m     \u001b[0m│\u001b[90m Int64    \u001b[0m\u001b[90m Int64                 \u001b[0m\u001b[90m Int64                  \u001b[0m\u001b[90m Int64         \u001b[0m ⋯\n",
       "─────┼──────────────────────────────────────────────────────────────────────────\n",
       "   1 │     3336                  59757                   59757                 ⋯\n",
       "   2 │     3337                  59758                   59758\n",
       "   3 │     3338                  59759                   59759\n",
       "   4 │     3339                  59761                   59761\n",
       "   5 │     3340                  59763                   59763                 ⋯\n",
       "\u001b[36m                                                              19 columns omitted\u001b[0m"
      ]
     },
     "execution_count": 68,
     "metadata": {},
     "output_type": "execute_result"
    }
   ],
   "source": [
    "first(route_patterns_data, 5)"
   ]
  },
  {
   "cell_type": "code",
   "execution_count": 77,
   "metadata": {},
   "outputs": [
    {
     "data": {
      "text/html": [
       "<div class=\"data-frame\"><p>5 rows × 27 columns (omitted printing of 20 columns)</p><table class=\"data-frame\"><thead><tr><th></th><th>X</th><th>Y</th><th>OBJECTID</th><th>stop_id</th><th>stop_code</th><th>stop_name</th><th>stop_desc</th></tr><tr><th></th><th title=\"Float64\">Float64</th><th title=\"Float64\">Float64</th><th title=\"Int64\">Int64</th><th title=\"Int64\">Int64</th><th title=\"String7\">String7</th><th title=\"String\">String</th><th title=\"String\">String</th></tr></thead><tbody><tr><th>1</th><td>-89.3439</td><td>43.0907</td><td>28238</td><td>1191</td><td>1191</td><td>Oakridge &amp; Miller (EB)</td><td>This stop (#1191) is eastbound on the 2799 block of Oakridge Ave nearside Miller Ave</td></tr><tr><th>2</th><td>-89.3414</td><td>43.0909</td><td>28239</td><td>1386</td><td>1386</td><td>Oakridge &amp; Maple (WB)</td><td>This stop (#1386) is westbound on the 2998 block of Oakridge Ave farside Maple Ave</td></tr><tr><th>3</th><td>-89.3471</td><td>43.0905</td><td>28240</td><td>1457</td><td>1457</td><td>Oakridge &amp; Evergreen (EB)</td><td>This stop (#1457) is eastbound on the 2311 block of Oakridge Ave farside Evergreen Ave</td></tr><tr><th>4</th><td>-89.3435</td><td>43.0909</td><td>28241</td><td>1484</td><td>1484</td><td>Oakridge &amp; Miller (WB)</td><td>This stop (#1484) is westbound on the 2800 block of Oakridge Ave nearside Miller Ave</td></tr><tr><th>5</th><td>-89.3407</td><td>43.0908</td><td>28242</td><td>1519</td><td>1519</td><td>Oakridge &amp; Maple (EB)</td><td>This stop (#1519) is eastbound on the 2999 block of Oakridge Ave nearside Maple Ave</td></tr></tbody></table></div>"
      ],
      "text/latex": [
       "\\begin{tabular}{r|cccccccc}\n",
       "\t& X & Y & OBJECTID & stop\\_id & stop\\_code & stop\\_name & stop\\_desc & \\\\\n",
       "\t\\hline\n",
       "\t& Float64 & Float64 & Int64 & Int64 & String7 & String & String & \\\\\n",
       "\t\\hline\n",
       "\t1 & -89.3439 & 43.0907 & 28238 & 1191 & 1191 & Oakridge \\& Miller (EB) & This stop (\\#1191) is eastbound on the 2799 block of Oakridge Ave nearside Miller Ave & $\\dots$ \\\\\n",
       "\t2 & -89.3414 & 43.0909 & 28239 & 1386 & 1386 & Oakridge \\& Maple (WB) & This stop (\\#1386) is westbound on the 2998 block of Oakridge Ave farside Maple Ave & $\\dots$ \\\\\n",
       "\t3 & -89.3471 & 43.0905 & 28240 & 1457 & 1457 & Oakridge \\& Evergreen (EB) & This stop (\\#1457) is eastbound on the 2311 block of Oakridge Ave farside Evergreen Ave & $\\dots$ \\\\\n",
       "\t4 & -89.3435 & 43.0909 & 28241 & 1484 & 1484 & Oakridge \\& Miller (WB) & This stop (\\#1484) is westbound on the 2800 block of Oakridge Ave nearside Miller Ave & $\\dots$ \\\\\n",
       "\t5 & -89.3407 & 43.0908 & 28242 & 1519 & 1519 & Oakridge \\& Maple (EB) & This stop (\\#1519) is eastbound on the 2999 block of Oakridge Ave nearside Maple Ave & $\\dots$ \\\\\n",
       "\\end{tabular}\n"
      ],
      "text/plain": [
       "\u001b[1m5×27 DataFrame\u001b[0m\n",
       "\u001b[1m Row \u001b[0m│\u001b[1m X        \u001b[0m\u001b[1m Y       \u001b[0m\u001b[1m OBJECTID \u001b[0m\u001b[1m stop_id \u001b[0m\u001b[1m stop_code \u001b[0m\u001b[1m stop_name             \u001b[0m ⋯\n",
       "\u001b[1m     \u001b[0m│\u001b[90m Float64  \u001b[0m\u001b[90m Float64 \u001b[0m\u001b[90m Int64    \u001b[0m\u001b[90m Int64   \u001b[0m\u001b[90m String7   \u001b[0m\u001b[90m String                \u001b[0m ⋯\n",
       "─────┼──────────────────────────────────────────────────────────────────────────\n",
       "   1 │ -89.3439  43.0907     28238     1191  1191       Oakridge & Miller (EB) ⋯\n",
       "   2 │ -89.3414  43.0909     28239     1386  1386       Oakridge & Maple (WB)\n",
       "   3 │ -89.3471  43.0905     28240     1457  1457       Oakridge & Evergreen (\n",
       "   4 │ -89.3435  43.0909     28241     1484  1484       Oakridge & Miller (WB)\n",
       "   5 │ -89.3407  43.0908     28242     1519  1519       Oakridge & Maple (EB)  ⋯\n",
       "\u001b[36m                                                              22 columns omitted\u001b[0m"
      ]
     },
     "execution_count": 77,
     "metadata": {},
     "output_type": "execute_result"
    }
   ],
   "source": [
    "first(stops_data, 5)"
   ]
  },
  {
   "cell_type": "code",
   "execution_count": 69,
   "metadata": {},
   "outputs": [
    {
     "data": {
      "text/plain": [
       "2142"
      ]
     },
     "execution_count": 69,
     "metadata": {},
     "output_type": "execute_result"
    }
   ],
   "source": [
    "N = size(ridership_data,1)"
   ]
  },
  {
   "cell_type": "code",
   "execution_count": 76,
   "metadata": {},
   "outputs": [
    {
     "name": "stderr",
     "output_type": "stream",
     "text": [
      "\u001b[32m\u001b[1m   Resolving\u001b[22m\u001b[39m package versions...\n",
      "\u001b[32m\u001b[1m  No Changes\u001b[22m\u001b[39m to `~/.julia/environments/v1.7/Project.toml`\n",
      "\u001b[32m\u001b[1m  No Changes\u001b[22m\u001b[39m to `~/.julia/environments/v1.7/Manifest.toml`\n"
     ]
    }
   ],
   "source": [
    "import Pkg; Pkg.add(\"Geodesy\")\n",
    "using Geodesy\n",
    "\n",
    "stops = Vector{LatLon{Float64}}()\n",
    "\n",
    "for i in eachrow(ridership_data)\n",
    "    x = LatLon(i.Lat, i.Lon)\n",
    "    push!(stops, x)\n",
    "end\n",
    "\n",
    "distances = zeros(N,N)\n",
    "\n",
    "for i in 1:N\n",
    "    for j in 1:N\n",
    "        distances[i,j] = euclidean_distance(stops[i], stops[j])\n",
    "    end\n",
    "end\n"
   ]
  },
  {
   "cell_type": "code",
   "execution_count": 71,
   "metadata": {},
   "outputs": [
    {
     "data": {
      "text/plain": [
       "2142×2142 Matrix{Float64}:\n",
       "     0.0      770.656    974.321   …  9116.76   11031.0     9974.57\n",
       "   770.656      0.0      263.84       8351.56   10264.0     9210.79\n",
       "   974.321    263.84       0.0        8145.92   10062.1     9002.55\n",
       "   794.924    510.88     447.575      8449.38   10371.2     9299.83\n",
       "  1602.09     872.171    630.145      7529.52    9448.51    8383.84\n",
       "   611.097   1026.19    1287.46    …  9260.55   11159.1    10125.3\n",
       "   939.284    239.555     35.5769     8181.38   10097.7     9037.96\n",
       "   412.952    745.492    845.271      8945.64   10866.5     9797.28\n",
       "   567.934    439.384    703.178      8694.74   10599.6     9557.52\n",
       "   593.444    290.538    554.285      8587.94   10495.9     9449.46\n",
       "   317.611    779.899    908.545   …  9030.56   10950.4     9883.46\n",
       "   618.466    560.763    823.197      8754.44   10655.7     9618.47\n",
       "   606.094    275.601    539.429      8571.96   10480.0     9433.44\n",
       "     ⋮                             ⋱                ⋮      \n",
       " 12189.1    11418.5    11231.5     …  3242.29    1464.86    2539.95\n",
       " 10699.3     9928.64    9745.85       1964.15    1103.68    1547.2\n",
       " 10228.7     9491.26    9258.69       1979.04    2175.65    1586.38\n",
       " 15771.2    15000.6    14819.9        6837.18    4957.44    6076.99\n",
       " 17051.0    16281.8    16086.0        7963.19    6037.45    7133.35\n",
       " 11895.0    11134.2    10921.5     …  2810.81    1117.53    1941.87\n",
       "  9011.94    8271.86    8040.82       1420.99    2682.97    1653.72\n",
       "  9988.79    9222.27    9019.26        882.68    1044.55     288.627\n",
       " 11420.5    10651.4    10455.5        2365.39     527.168   1613.71\n",
       "  9116.76    8351.56    8145.92          0.0     1925.75     868.963\n",
       " 11031.0    10264.0    10062.1     …  1925.75       0.0     1120.13\n",
       "  9974.57    9210.79    9002.55        868.963   1120.13       0.0"
      ]
     },
     "execution_count": 71,
     "metadata": {},
     "output_type": "execute_result"
    }
   ],
   "source": [
    "distances"
   ]
  },
  {
   "cell_type": "code",
   "execution_count": 81,
   "metadata": {},
   "outputs": [
    {
     "data": {
      "text/plain": [
       "Dict{Any, Any} with 1744 entries:\n",
       "  9167 => \"30\"\n",
       "  7144 => \"16, 31, 38\"\n",
       "  9140 => \"36\"\n",
       "  8690 => \"55\"\n",
       "  4522 => \"49\"\n",
       "  4838 => \"75\"\n",
       "  7538 => \"39\"\n",
       "  1812 => \"5, 28\"\n",
       "  1199 => \"6, 15\"\n",
       "  5143 => \"21\"\n",
       "  7272 => \"38\"\n",
       "  8363 => \"51\"\n",
       "  7766 => \"32\"\n",
       "  1704 => \"5, 28\"\n",
       "  4876 => \"18, 40\"\n",
       "  9675 => \"20\"\n",
       "  2398 => \"8, 38, 78\"\n",
       "  6785 => \"70, 78\"\n",
       "  1823 => \"4, 7, 38\"\n",
       "  6652 => \"72\"\n",
       "  694  => \"44\"\n",
       "  4623 => \"75\"\n",
       "  692  => \"2, 28, 48\"\n",
       "  2119 => \"7\"\n",
       "  6430 => \"68, 73\"\n",
       "  ⋮    => ⋮"
      ]
     },
     "execution_count": 81,
     "metadata": {},
     "output_type": "execute_result"
    }
   ],
   "source": [
    "stop_route = Dict()\n",
    "\n",
    "for i in eachrow(stops_data)\n",
    "    if i.Route != \"None\"\n",
    "        stop_route[i.stop_id] = i.Route\n",
    "    end\n",
    "end\n",
    "\n",
    "stop_route"
   ]
  },
  {
   "cell_type": "code",
   "execution_count": 78,
   "metadata": {},
   "outputs": [],
   "source": []
  },
  {
   "cell_type": "code",
   "execution_count": 79,
   "metadata": {},
   "outputs": [
    {
     "data": {
      "text/plain": [
       "Dict{Any, Any} with 2109 entries:\n",
       "  9167 => \"30\"\n",
       "  4986 => \"None\"\n",
       "  7604 => \"None\"\n",
       "  4700 => \"None\"\n",
       "  7144 => \"16, 31, 38\"\n",
       "  9140 => \"36\"\n",
       "  6459 => \"None\"\n",
       "  8690 => \"55\"\n",
       "  4522 => \"49\"\n",
       "  5126 => \"None\"\n",
       "  4838 => \"75\"\n",
       "  6848 => \"None\"\n",
       "  5845 => \"None\"\n",
       "  7538 => \"39\"\n",
       "  1812 => \"5, 28\"\n",
       "  1199 => \"6, 15\"\n",
       "  5143 => \"21\"\n",
       "  7272 => \"38\"\n",
       "  9568 => \"None\"\n",
       "  9802 => \"None\"\n",
       "  8363 => \"51\"\n",
       "  7766 => \"32\"\n",
       "  1704 => \"5, 28\"\n",
       "  4876 => \"18, 40\"\n",
       "  9675 => \"20\"\n",
       "  ⋮    => ⋮"
      ]
     },
     "execution_count": 79,
     "metadata": {},
     "output_type": "execute_result"
    }
   ],
   "source": []
  },
  {
   "cell_type": "markdown",
   "metadata": {},
   "source": [
    "# Plot"
   ]
  },
  {
   "cell_type": "code",
   "execution_count": 11,
   "metadata": {},
   "outputs": [],
   "source": [
    "# import Pkg; Pkg.add(\"Geodesy\")\n",
    "# using Geodesy\n",
    "\n",
    "#required installation for map vizualiztion\n",
    "# using Pkg\n",
    "# Pkg.add(\"PyCall\")\n",
    "# Pkg.add(\"Conda\")\n",
    "# Pkg.add(\"OpenStreetMapX\")\n",
    "# using Conda\n",
    "# Conda.runconda(`install folium -c conda-forge`)"
   ]
  },
  {
   "cell_type": "code",
   "execution_count": null,
   "metadata": {},
   "outputs": [],
   "source": [
    "using OpenStreetMapX\n",
    "# you can replace the line below with a String representing another path to an OSM map file.\n",
    "map_file_path = joinpath(dirname(pathof(OpenStreetMapX)),\"..\",\"test/data/reno_east3.osm\")\n",
    "mx = get_map_data(map_file_path, use_cache=false);\n",
    "using Random \n",
    "Random.seed!(0)\n",
    "node_ids = collect(keys(mx.nodes)) \n",
    "routes = Vector{Vector{Int}}()\n",
    "visits = Dict{Int,Int}()\n",
    "for i in 1:5000\n",
    "    a,b = [point_to_nodes(generate_point_in_bounds(mx), mx) for _ in 1:2]\n",
    "    route, route_time = OpenStreetMapX.shortest_route(mx,a,b)\n",
    "    if route_time < Inf # when we select points neaer edges no route might be found\n",
    "        push!(routes, route)\n",
    "        for n in route\n",
    "            visits[n] = get(visits, n,0)+1\n",
    "        end \n",
    "    end\n",
    "end                                   \n",
    "println(\"We have generated \",length(routes),\" non-empty routes\")\n"
   ]
  }
 ],
 "metadata": {
  "kernelspec": {
   "display_name": "Julia 1.7.1",
   "language": "julia",
   "name": "julia-1.7"
  },
  "language_info": {
   "file_extension": ".jl",
   "mimetype": "application/julia",
   "name": "julia",
   "version": "1.7.2"
  }
 },
 "nbformat": 4,
 "nbformat_minor": 2
}
